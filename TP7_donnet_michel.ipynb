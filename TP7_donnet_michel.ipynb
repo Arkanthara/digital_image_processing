{
 "cells": [
  {
   "cell_type": "markdown",
   "metadata": {},
   "source": [
    "<img style=\"float: left;\" src=\"images/unige_csd.png\" alt=\"drawing\" width=\"200\"/>\n",
    "\n",
    "# <center>Imagerie Numérique 2024 Printemps</center>\n",
    "\n",
    "<center>February 20, 2024</center>"
   ]
  },
  {
   "cell_type": "markdown",
   "metadata": {},
   "source": [
    "# <center><ins>TP Class N°7 - DSP and Complex Numbers</ins></center>"
   ]
  },
  {
   "cell_type": "markdown",
   "metadata": {},
   "source": [
    "#### *Instructions :*  \n",
    "\n",
    "<font color=red>**Be careful ! You only have one week to complete this TP !**</font>\n",
    "\n",
    "* This TP should be completed and uploaded on Moodle before **Thursday 7 March 2024, 23h59**.\n",
    "* The name of the file you upload should be **TP7_name_surname.ipynb**.\n",
    "* If you need to include attached files to you TP, please archive them together in a folder named **TP7_name_surname.zip**."
   ]
  },
  {
   "cell_type": "markdown",
   "metadata": {},
   "source": [
    "## Exercise 1. The Dirac comb\n",
    "*2 points*"
   ]
  },
  {
   "cell_type": "markdown",
   "metadata": {},
   "source": [
    "The Dirac comb or train of impulses is the following ”function”:\n",
    "\n",
    "$$W_T(t) = \\sum_{k \\in \\mathbb{Z}} \\delta(t - k \\cdot T) $$"
   ]
  },
  {
   "cell_type": "markdown",
   "metadata": {},
   "source": [
    "(a) In Python, implement a function\n",
    "\n",
    "$$\n",
    "\\mbox{sha}(t, T) =\n",
    "\\left\\{\n",
    "\t\\begin{array}{ll}\n",
    "\t\t1  & \\mbox{if t is a multiple of T} \\\\\n",
    "\t\t0 & \\mbox{otherwise.}\n",
    "\t\\end{array}\n",
    "\\right.\n",
    "$$"
   ]
  },
  {
   "cell_type": "markdown",
   "metadata": {},
   "source": [
    "Using *np.linspace()* and *plt.stem()*, represent $\\mbox{sha}(t, 1)$, $\\mbox{sha}(t, 2)$ and $\\mbox{sha}(t, 4)$ on a range $t \\in [-10, 10]$.\n",
    "\n",
    "**Remark:** Use $num=201$ in *np.linspace()*. Why is this value important ?"
   ]
  },
  {
   "cell_type": "code",
   "execution_count": null,
   "metadata": {},
   "outputs": [],
   "source": []
  },
  {
   "cell_type": "markdown",
   "metadata": {},
   "source": [
    "(b) Explain why sampling a function at rate $1/T$ is equivalent to multiplying it with $W_T(t)$."
   ]
  },
  {
   "cell_type": "markdown",
   "metadata": {},
   "source": [
    "> Answer here"
   ]
  },
  {
   "cell_type": "markdown",
   "metadata": {},
   "source": [
    "(c) Illustrate this fact by sampling $f(t) = \\sin(\\frac{\\pi}{2} t + \\pi/4)$ with $T = 1$, $2$, $4$. Display the results on separate graphs. On each graph, plot the original function $f(t)$ using *plt.plot()* and the sampled version using *plt.stem()*. Comment the results in view of signal preservation."
   ]
  },
  {
   "cell_type": "code",
   "execution_count": null,
   "metadata": {},
   "outputs": [],
   "source": []
  },
  {
   "cell_type": "markdown",
   "metadata": {},
   "source": [
    "> Answer here"
   ]
  },
  {
   "cell_type": "markdown",
   "metadata": {},
   "source": [
    "## Exercise 2. Complex function visualization\n",
    "*2 points*"
   ]
  },
  {
   "cell_type": "markdown",
   "metadata": {},
   "source": [
    "In this exercise, you will visualize a complex polynomial function using complex numpy arrays. Consider\n",
    "\n",
    "$$f(z) = z^3 - 1$$"
   ]
  },
  {
   "cell_type": "markdown",
   "metadata": {},
   "source": [
    "(a) Implement the function $f(z)$ in Python. Show that $1$, $e^{j2\\pi/3}$ and $e^{j4\\pi/3}$ are complex roots of $f(z)$. Find their real and imaginary parts."
   ]
  },
  {
   "cell_type": "code",
   "execution_count": null,
   "metadata": {},
   "outputs": [],
   "source": []
  },
  {
   "cell_type": "markdown",
   "metadata": {},
   "source": [
    "(b) Create a numpy complex matrix $z$ of size $100 \\times 100$ whose entries range from $[-2, 2]$ both in real and imaginary parts.\n",
    "\n",
    "**Hint :** Use *np.linspace()*, *np.meshgrid()* and define $z = xx + yy * (-1j)$.\n",
    "\n",
    "Note the minus sign in front of $1j$, we put it to counterbalance the fact that numpy stores values from top to bottom."
   ]
  },
  {
   "cell_type": "code",
   "execution_count": null,
   "metadata": {},
   "outputs": [],
   "source": []
  },
  {
   "cell_type": "markdown",
   "metadata": {},
   "source": [
    "(c)  Apply the function $f$ to the matrix $z$, using pointwise operations, giving you a new complex matrix $w$ of same size."
   ]
  },
  {
   "cell_type": "code",
   "execution_count": null,
   "metadata": {},
   "outputs": [],
   "source": []
  },
  {
   "cell_type": "markdown",
   "metadata": {},
   "source": [
    "(d)  Use the function *np.abs()* on $w$ and visualize the result as an image, with its colorbar.\n",
    "\n",
    "**Hint :** To have interpretable coordinates, use parameter *extent* of *plt.imshow()*.\n",
    "\n",
    "We also recommand to use the 'hsv' colormap which has stronger constrast than the default one."
   ]
  },
  {
   "cell_type": "code",
   "execution_count": null,
   "metadata": {},
   "outputs": [],
   "source": []
  },
  {
   "cell_type": "markdown",
   "metadata": {},
   "source": [
    "(e) To further enhance the contrast, we will use a logarithmic scale.\n",
    "\n",
    "Instead of visualizing directly $|w|$,  first apply the transformation $m = \\log(1 + |w|)$ and use *plt.imshow()* on $m$. This trick will come very often when we will investigate the magnitude of complex images. Comment the resulting image."
   ]
  },
  {
   "cell_type": "code",
   "execution_count": null,
   "metadata": {},
   "outputs": [],
   "source": []
  },
  {
   "cell_type": "markdown",
   "metadata": {},
   "source": [
    "> Answer here"
   ]
  },
  {
   "cell_type": "markdown",
   "metadata": {},
   "source": [
    "(f) Visualise now the real and imaginary parts of $w$ on two different plots. When is $f(z)$ a real number ?"
   ]
  },
  {
   "cell_type": "code",
   "execution_count": null,
   "metadata": {},
   "outputs": [],
   "source": []
  },
  {
   "cell_type": "markdown",
   "metadata": {},
   "source": [
    "> Answer here"
   ]
  },
  {
   "cell_type": "markdown",
   "metadata": {},
   "source": [
    "(g) Finally, visualise the phase of $w$ using *np.angle()* and plot the colorbar as well. Give a new interpretation on when is $f(z)$ a real number based on the value of the phase."
   ]
  },
  {
   "cell_type": "code",
   "execution_count": null,
   "metadata": {},
   "outputs": [],
   "source": []
  },
  {
   "cell_type": "markdown",
   "metadata": {},
   "source": [
    "> Answer here"
   ]
  },
  {
   "cell_type": "markdown",
   "metadata": {},
   "source": [
    "(h) *(Bonus)*  Prove points (f) and (g) by computing explicitely the developpement of $f(a+jb)$ and finding a relation between $a$ and $b$."
   ]
  },
  {
   "cell_type": "markdown",
   "metadata": {},
   "source": [
    "> Answer here"
   ]
  },
  {
   "cell_type": "markdown",
   "metadata": {},
   "source": [
    "## Exercise 3. Fourier Series 101\n",
    "*2 points*"
   ]
  },
  {
   "cell_type": "markdown",
   "metadata": {},
   "source": [
    "The goal of this exercise is to see a very simple example of a Fourier serie decomposition. Consider the following function:\n",
    "\n",
    "$$\\tilde{f}(t) = 2 \\sin(5t + \\pi/3)$$"
   ]
  },
  {
   "cell_type": "markdown",
   "metadata": {},
   "source": [
    "(a) Compute the amplitude, the frequency, the phase and the period of this sinusoid."
   ]
  },
  {
   "cell_type": "markdown",
   "metadata": {},
   "source": [
    "> Answer here"
   ]
  },
  {
   "cell_type": "markdown",
   "metadata": {},
   "source": [
    "(b) Based on the three different formulations of the Fourier series (Theme 7, pp.51-52), compute the coefficients $A_k$ and $\\phi_k$ for $k = 1,2,3,...$ \\\\\n",
    "\n",
    "**Hint :** Most of them are equal to $0$."
   ]
  },
  {
   "cell_type": "markdown",
   "metadata": {},
   "source": [
    "> Answer here"
   ]
  },
  {
   "cell_type": "markdown",
   "metadata": {},
   "source": [
    "(c) Use trigonometric formulas to write $\\tilde{f}(t)$ as a sum of sine and cosine functions. Compute $a_k$ and $b_k$ for $k = 1,2,3,...$"
   ]
  },
  {
   "cell_type": "markdown",
   "metadata": {},
   "source": [
    "> Answer here"
   ]
  },
  {
   "cell_type": "markdown",
   "metadata": {},
   "source": [
    "(d) Use the conversion formulas and compute $F_k \\in \\mathbb{C}$ for $k = 0, \\pm 1, \\pm 2, ...$"
   ]
  },
  {
   "cell_type": "markdown",
   "metadata": {},
   "source": [
    "> Answer here"
   ]
  },
  {
   "cell_type": "markdown",
   "metadata": {},
   "source": [
    "(e) What are the even and odd parts of this function $f_{even}(t)$ and $f_{odd}(t)$ ?"
   ]
  },
  {
   "cell_type": "markdown",
   "metadata": {},
   "source": [
    "> Answer here"
   ]
  }
 ],
 "metadata": {
  "kernelspec": {
   "display_name": "Python 3 (ipykernel)",
   "language": "python",
   "name": "python3"
  },
  "language_info": {
   "codemirror_mode": {
    "name": "ipython",
    "version": 3
   },
   "file_extension": ".py",
   "mimetype": "text/x-python",
   "name": "python",
   "nbconvert_exporter": "python",
   "pygments_lexer": "ipython3",
   "version": "3.10.12"
  }
 },
 "nbformat": 4,
 "nbformat_minor": 4
}
