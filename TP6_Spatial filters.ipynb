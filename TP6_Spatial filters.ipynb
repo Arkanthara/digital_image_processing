{
 "cells": [
  {
   "cell_type": "markdown",
   "metadata": {
    "collapsed": true,
    "jupyter": {
     "outputs_hidden": true
    },
    "pycharm": {
     "name": "#%% md\n"
    }
   },
   "source": [
    "<img style=\"float: left;\" src=\"images/unige_csd.png\" alt=\"drawing\" width=\"200\"/>\n",
    "\n",
    "# <center>Imagerie Numérique 2023 Automne</center>\n",
    "\n",
    "<center>December 8, 2023</center>"
   ]
  },
  {
   "cell_type": "markdown",
   "metadata": {
    "pycharm": {
     "name": "#%% md\n"
    }
   },
   "source": [
    "# <center><ins>TP Class N°6 - Spatial filters</ins></center>"
   ]
  },
  {
   "cell_type": "markdown",
   "metadata": {
    "pycharm": {
     "name": "#%% md\n"
    }
   },
   "source": [
    "#### *Instructions :*  \n",
    "\n",
    "* This TP should be completed and uploaded on Moodle before **Thursday 21 December 2023, 23h59**.\n",
    "* The name of the file you upload should be **TP6_name_surname.ipynb**.\n",
    "* If you need to include attached files to you TP, please archive them together in a folder named **TP6_name_surname.zip**."
   ]
  },
  {
   "cell_type": "markdown",
   "metadata": {
    "pycharm": {
     "name": "#%% md\n"
    }
   },
   "source": [
    "# Exercise 1. Explain the code <span style=\"font-size: 16px; font-weight:normal; font-style: italic;\"> (0.25 point)</span> <span style=\"color:red;font-size: 16px; font-weight:normal\">"
   ]
  },
  {
   "cell_type": "markdown",
   "metadata": {
    "pycharm": {
     "name": "#%% md\n"
    }
   },
   "source": [
    "Run the following code. Explain the difference in the produced results. Make conclusion."
   ]
  },
  {
   "cell_type": "code",
   "execution_count": 3,
   "metadata": {
    "ExecuteTime": {
     "end_time": "2023-12-07T20:31:40.604857197Z",
     "start_time": "2023-12-07T20:31:40.166800339Z"
    },
    "collapsed": true,
    "jupyter": {
     "outputs_hidden": true
    },
    "pycharm": {
     "name": "#%%\n"
    }
   },
   "outputs": [],
   "source": [
    "import numpy as np\n",
    "import matplotlib.pyplot as plt\n",
    "\n",
    "def plot(I, Titles, dr=1, dc=1, cmap=\"gray\"):\n",
    "    fig = plt.figure()\n",
    "    for i in range(len(I)):\n",
    "      plt.subplot(dr,dc,i+1)\n",
    "      plt.imshow(I[i], cmap=cmap)\n",
    "      plt.title(Titles[i])\n",
    "      plt.axis(\"off\")\n",
    "\n",
    "    plt.show()"
   ]
  },
  {
   "cell_type": "code",
   "execution_count": 4,
   "metadata": {
    "ExecuteTime": {
     "end_time": "2023-12-07T20:31:56.988756160Z",
     "start_time": "2023-12-07T20:31:56.663978964Z"
    },
    "collapsed": true,
    "jupyter": {
     "outputs_hidden": true
    },
    "pycharm": {
     "name": "#%%\n"
    }
   },
   "outputs": [
    {
     "data": {
      "image/png": "[encoded data removed]",
      "text/plain": [
       "<Figure size 640x480 with 4 Axes>"
      ]
     },
     "metadata": {},
     "output_type": "display_data"
    },
    {
     "data": {
      "image/png": "[encoded data removed]",
      "text/plain": [
       "<Figure size 640x480 with 4 Axes>"
      ]
     },
     "metadata": {},
     "output_type": "display_data"
    }
   ],
   "source": [
    "image1 = np.arange(0, 255)*np.ones((255, 255))\n",
    "image2 = np.transpose(np.copy(image1))\n",
    "av1 = (image1 + image2)/2\n",
    "av2 = image1/2 + image2/2\n",
    "\n",
    "plot([image1, image2, av1, av2], \n",
    "     [\"image1\", \"image2\", \"average1\", \"average2\"], \n",
    "     dc=4)\n",
    "\n",
    "image1 = image1.astype(np.uint8)\n",
    "image2 = image2.astype(np.uint8)\n",
    "av1 = (image1 + image2)/2\n",
    "av2 = image1/2 + image2/2\n",
    "\n",
    "plot([image1, image2, av1, av2], \n",
    "     [\"image1\", \"image2\", \"average1\", \"average2\"], \n",
    "     dc=4)"
   ]
  },
  {
   "cell_type": "markdown",
   "metadata": {},
   "source": [
    "The first set of image is obtained by image with int from 0 to 255. We can observe than all is right.\n",
    "The second set of image is obtained by image with uint8 from 0 to 255. The difference between int and uint8 is that int can be negative whereas uint8 can't, and int is coded with more than 8 bits, whereas uint8 is coded on 8 bits. So uint8 can only represent number from 0 to 255, and if we made 255 + 1, we'll obtain 0 because of overflow and if we made 0 - 1, we'll obtain 255 because of underflow.\n",
    "\n",
    "In the first set of image, all seems to be good, whereas in the second set of image, I think that there is a little problem with the average 1. The code for average 1 is:\n",
    "```python\n",
    "av1 = (image1 + image2)/2\n",
    "```\n",
    "\n",
    "In fact, we have here a overflow problem: we have at some points (image1 + image2) > 255, so we have an overflow, and the real result obtained is less than 255, so when we divide the result by 2, we don't obtain the good result. And at the other points of the image, we don't have any problems because we have (image1 + image2) $\\leq$ 255.\n",
    "\n",
    "The set obtained with int has no problem because when (image1 + image2) > 255, there is no overflow and the real result is more than 255, so we keep the value obtained, and then we divide it by 2, that's why the result is always in range 0, 255."
   ]
  },
  {
   "cell_type": "markdown",
   "metadata": {
    "pycharm": {
     "name": "#%% md\n"
    }
   },
   "source": [
    "# Exercise 2. Convolution and correlation <span style=\"font-size: 16px; font-weight:normal; font-style: italic;\"> (0.75 point)</span>"
   ]
  },
  {
   "cell_type": "markdown",
   "metadata": {
    "pycharm": {
     "name": "#%% md\n"
    }
   },
   "source": [
    "Let there be the functions:\n",
    "\n",
    ">$\n",
    "\\begin{array}{rcl}\n",
    "x(n) & = & \\delta(n-1) + \\delta(n-2) + \\delta(n-3)\\\\\n",
    "h_1(n) & = & \\delta(n) + 2\\delta(n-1) + 3\\delta(n-2) \\\\\n",
    "h_2(n) & = & \\delta(n+2) + 2\\delta(n+1) + 3\\delta(n) + 2\\delta(n-1) + \\delta(n-2)\\\\\n",
    "\\end{array}\n",
    "$\n",
    "> $x(n) = \\begin{bmatrix} 0 & 1 & 1 & 1 \\end{bmatrix}\n",
    "h_1(n) = \\begin{bmatrix} 1 & 2 & 3\\end{bmatrix}$\n",
    "\n",
    "we have convolution, so $h_1$ is inverted. Then, for shift n = 0, h_1(0) overlap with x(0), the result is 0\\times 1 =0\n",
    "for shift n = 1, h_1(0) overlap with x(1), so we have 1 \\times 1 = 1, so we have $\\delta(n - 1)$\n",
    "for shift n = 2, h_1(1) overlap with x(1) and h_1(0) overlap with x(2), we have 1 \\times 1 + 2 \\times 1, so we have $\\delta(n - 1) + 3 \\delta(n - 2)$\n",
    "keyword: at shift n = ?, h(x ) overlap with x(b) giving us blabla \\times \\blabla = coucou so we have coucou \\times \\delta(n - shift)\n",
    "\n",
    "for 2D: $\\delta(n - x, n - y)$"
   ]
  },
  {
   "cell_type": "markdown",
   "metadata": {
    "pycharm": {
     "name": "#%% md\n"
    }
   },
   "source": [
    "(a) Convolve manually $x(n)$ with $h_1(n)$ and $h_2(n)$."
   ]
  },
  {
   "cell_type": "markdown",
   "metadata": {},
   "source": [
    "we have \n",
    "$$x(n)  =  \\delta(n-1) + \\delta(n-2) + \\delta(n-3)$$\n",
    "$$= 0\\times \\delta(n) + 1 \\times \\delta(n-1) + 1 \\times \\delta(n-2) + 1 \\times \\delta(n-3)$$\n",
    "\n",
    "So we can write $x(n)$ as $ \\begin{bmatrix} 0 & 1 & 1 & 1 \\end{bmatrix}$\n",
    "\n",
    "In the same way, we can also define $h_1(n)$ as  $\\begin{bmatrix} 1 & 2 & 3 \\end{bmatrix}$ and $h_2(n)$ as $\\begin{bmatrix} 1 & 2 & 3 & 2 & 1 \\end{bmatrix}$ and $x(n)$ for $h_2(n)$ as $\\begin{bmatrix} 0 & 0 &0 & 1 & 1 & 1 \\end{bmatrix}$"
   ]
  },
  {
   "cell_type": "markdown",
   "metadata": {
    "pycharm": {
     "name": "#%% md\n"
    }
   },
   "source": [
    "(b) Correlate manually $x(n)$ with $h_1(n)$ and $h_2(n)$."
   ]
  },
  {
   "cell_type": "markdown",
   "metadata": {
    "pycharm": {
     "name": "#%% md\n"
    }
   },
   "source": [
    "# Exercise 3. Low Pass Filtering <span style=\"font-size: 16px; font-weight:normal; font-style: italic;\"> (1 point)</span>"
   ]
  },
  {
   "cell_type": "markdown",
   "metadata": {
    "pycharm": {
     "name": "#%% md\n"
    }
   },
   "source": [
    "(a) Program a function that performs image filtering with a square filter of arbitrary size. <br/>\n",
    "> **Important:** try to program with a min amount of loops. Ideally without any loops."
   ]
  },
  {
   "cell_type": "markdown",
   "metadata": {
    "pycharm": {
     "name": "#%% md\n"
    }
   },
   "source": [
    "(b)  By using your function, perform  the filtering of zero padded grayscale image *cameraman.jpg* with an average/box filter: <br/>\n",
    "> $ h = \\frac{1}{9} \\left( \\begin{matrix}\n",
    "  11 & 1 & 1 \\\\\n",
    "  1 & 1 & 1 \\\\\n",
    "  1 & 1 & 1 \\\\\n",
    "  \\end{matrix} \\right )$\n",
    "  \n",
    "  **Hint:** for zero padding the corresponding *numpy* function could be used."
   ]
  },
  {
   "cell_type": "markdown",
   "metadata": {
    "pycharm": {
     "name": "#%% md\n"
    }
   },
   "source": [
    "(c) By using your function, perform  the filtering of zero padded grayscale image *cameraman.jpg* with a Gaussian filter: <br/>\n",
    "> $\\textbf{h} = \\frac{1}{16} \\left ( \\begin{matrix}{} \n",
    "\t1 & 2 & 1 \\\\\n",
    "\t2 & 4 & 2 \\\\\n",
    "\t1 & 2 & 1\n",
    "\\end{matrix}\n",
    "\\right )$"
   ]
  },
  {
   "cell_type": "markdown",
   "metadata": {
    "pycharm": {
     "name": "#%% md\n"
    }
   },
   "source": [
    "(d) How could the average/box and Gaussian filters to be modified to increase the blurring effect, i.e. remove more high frequency components? "
   ]
  },
  {
   "cell_type": "markdown",
   "metadata": {
    "pycharm": {
     "name": "#%% md\n"
    }
   },
   "source": [
    "# Exercise 4. Border effects <span style=\"font-size: 16px; font-weight:normal; font-style: italic;\"> (1 point)</span>"
   ]
  },
  {
   "cell_type": "markdown",
   "metadata": {
    "pycharm": {
     "name": "#%% md\n"
    }
   },
   "source": [
    "Generate an image (as illistrated in Figure 1) of size 512 $\\times$ 512. \n",
    "<table>\n",
    "    <tr style=\"background-color:#FFFFFF;\">\n",
    "    <td style='text-align:center;'>\n",
    "       <img src='images/002.png' width=\"100\" height=\"100\"/>\n",
    "    </td>\n",
    "    </tr>\n",
    "    <tr>\n",
    "    <td style='text-align:center;'> \n",
    "    Figure 1.\n",
    "    </td>\n",
    "    </tr>\n",
    "</table>\n",
    "\n",
    "Using the *numpy* padding function and the box filter of size 31 $\\times$ 31 (use your implemetation from the exercise 1): "
   ]
  },
  {
   "cell_type": "markdown",
   "metadata": {
    "pycharm": {
     "name": "#%% md\n"
    }
   },
   "source": [
    "(a) investigate the influence of tree types border padding: \n",
    "   * zero padding\n",
    "   * periodic extension\n",
    "   * symmetric flip or mirror reflection   "
   ]
  },
  {
   "cell_type": "markdown",
   "metadata": {
    "pycharm": {
     "name": "#%% md\n"
    }
   },
   "source": [
    "(b) Visualize the original, padded and filtered images. Explain the effects that one can observe."
   ]
  },
  {
   "cell_type": "markdown",
   "metadata": {
    "pycharm": {
     "name": "#%% md\n"
    }
   },
   "source": [
    "(c) What are the advantages and disadvantages of each type of border extension?"
   ]
  },
  {
   "cell_type": "markdown",
   "metadata": {
    "pycharm": {
     "name": "#%% md\n"
    }
   },
   "source": [
    "# Exercise 5. The Laplacian filter <span style=\"font-size: 16px; font-weight:normal; font-style: italic;\"> (1 point)</span> "
   ]
  },
  {
   "cell_type": "markdown",
   "metadata": {
    "pycharm": {
     "name": "#%% md\n"
    }
   },
   "source": [
    "The Laplacian filter kernel:\n",
    "> $\n",
    "\\begin{equation}\n",
    "\\nabla^2 f(x,y) = f(x-1, y) + f(x+1, y) + f(x, y-1) + f(x, y+1) - 4f(x,y) \\;\\;\\;\\;\\; (1)\n",
    "\\end{equation}\n",
    "$\n",
    "\n",
    "(a) Program and test (apply to the grayscale image *cameraman) the Laplacian filter based on the equation (1) and 3 $\\times$ 3 neighbourhood. <br/>\n",
    "> **Hint:** you can represent the equation (1) in a matrix form and use your implementaion  from the exercise 1.\n",
    "\n",
    "> $\\begin{bmatrix} (-1, -1) & (0, -1) & (1, -1) \\\\ (-1, 0) & (0, 0) & (1, 0)\\end{bmatrix}$\n",
    "> $\\begin{bmatrix} 0 & 1 & 0 \\\\ 1 & -4 & 1 \\\\ 0 & 1 & 0\\end{bmatrix}$\n",
    "> $\\nabla^2 f(x, y) = \\sum_{-\\infty}^{\\infty} c_{nm ?} f(x - n, y - m)$\n",
    "\n",
    "sum = 0 -> take edges... sum = 1 -> blured edges...\n",
    "\n",
    "make image sharpened: take image and add laplacien filter multiplied by a constant c: img_sharpened = img + c \\times laplacien\n",
    "\n",
    "unsharpened mask: img - img_blured\n",
    "\n",
    "def laplacian_kernel()\n",
    "for i i nrange(1, img_shape)\n",
    "for j in range(1, img_shape[1])\n",
    "img_laplacian[i, j] = np.sum(img[i - 1:i+2, j - 1:j+2] * kernel(matrix with 0 1 0 1 -4 1 ect...))\n",
    "\n",
    "we can use a function different of our own function\n",
    "\n",
    "\n",
    "laplacian sharpening: img + c * laplacian_filter(img)\n",
    "\n",
    "do the same for gaussian sharpening"
   ]
  },
  {
   "cell_type": "markdown",
   "metadata": {
    "pycharm": {
     "name": "#%% md\n"
    }
   },
   "source": [
    "(b) Visualise the original and filtered images. Comment the effect of filtering."
   ]
  },
  {
   "cell_type": "markdown",
   "metadata": {
    "pycharm": {
     "name": "#%% md\n"
    }
   },
   "source": [
    "# Exercise 6. Mechanism of sharpening <span style=\"font-size: 16px; font-weight:normal; font-style: italic;\"> (1 point)</span>"
   ]
  },
  {
   "cell_type": "markdown",
   "metadata": {
    "pycharm": {
     "name": "#%% md\n"
    }
   },
   "source": [
    "\n",
    "$ \\lim_{\\epsilon -> 0} \\frac{f(x + \\epsilon) - f (x)}{\\epsilon} \\approx (\\text{We are in a discrete domain !} \\frac{f(x + 1) - f(x)}{1})$\n",
    "\n",
    "Take the grayscale image *cameraman* $A$. Blur this image with a box filter of size 3 $\\times$ 3 $B$.\n",
    "\n",
    "(a) $E_1$: definding the optimal parameters perform the sharpening of $B$ using the Gaussian filter."
   ]
  },
  {
   "cell_type": "markdown",
   "metadata": {
    "pycharm": {
     "name": "#%% md\n"
    }
   },
   "source": [
    "(b) $E_2$: definding the optimal parameters perform the sharpening of $B$ using the Laplacian filter. <br/>\n",
    ">**Hint:** try to find the parameters that minimise the *mse* between the original $A$ and enhanced images $E_1$ and $E_2$."
   ]
  },
  {
   "cell_type": "markdown",
   "metadata": {
    "pycharm": {
     "name": "#%% md\n"
    }
   },
   "source": [
    "(c) Display blurred $B$ and enhanced images $E_1$ and $E_2$. Comment the quality of the enhanced images based on the visual quality and based on the *mse* between the original $A$ and enhanced images $E_1$ and $E_2$. <br/>\n",
    ">**Hint:** for this exercise use the formulas from the Theme 6 page 56."
   ]
  },
  {
   "cell_type": "markdown",
   "metadata": {
    "pycharm": {
     "name": "#%% md\n"
    }
   },
   "source": [
    "# Exercise 7. Order statistics filtering <span style=\"font-size: 16px; font-weight:normal; font-style: italic;\"> (1 point)</span>"
   ]
  },
  {
   "cell_type": "markdown",
   "metadata": {
    "pycharm": {
     "name": "#%% md\n"
    }
   },
   "source": [
    "You are given two noisy images *tp6_005* and *tp6_006* corrupted by \"impulse\" noise.\n",
    "<table>\n",
    "    <tr style=\"background-color:#FFFFFF;\">\n",
    "    <td style='text-align:center;'>\n",
    "       <img src='images/tp6_005.jpg' width=\"250\" />\n",
    "    </td>\n",
    "    <td style='text-align:center;'>\n",
    "       <img src='images/tp6_006.jpg' width=\"200\" />\n",
    "    </td>    \n",
    "    </tr>\n",
    "    <tr style=\"background-color:#FFFFFF;\">\n",
    "    <td style=\"text-align:center;\">(a) tp6_005</td>\n",
    "    <td style=\"text-align:center;\">(b) tp6_006</td>    \n",
    "    </tr>\n",
    "    <tr style=\"background-color:#FFFFFF;\">\n",
    "    <td colspan=2 style=\"text-align:center;\"> \n",
    "    Figure 2.\n",
    "    </td>\n",
    "    </tr>    \n",
    "</table>\n",
    "\n",
    "(a) Defining the optimal parameters (filter size) by yourself try to remove the noise with: \n",
    "   * averaging filter\n",
    "   * median filter"
   ]
  },
  {
   "cell_type": "markdown",
   "metadata": {
    "pycharm": {
     "name": "#%% md\n"
    }
   },
   "source": [
    "(b)  Visualise the images before and after filtering. Report the used parameres of filtering. Comment the denoising efficiency based on the visual image quality.  \n",
    "> look beter or not... "
   ]
  },
  {
   "cell_type": "markdown",
   "metadata": {
    "pycharm": {
     "name": "#%% md\n"
    }
   },
   "source": [
    "# Exercise 8. Solving a Jigsaw Puzzle <span style=\"font-size: 16px; font-weight:normal; font-style: italic;\"> (1 point)</span> <span style=\"color:red;font-size: 16px; font-weight:normal\"> Non obligatory, bonus exercise</span> \n"
   ]
  },
  {
   "cell_type": "markdown",
   "metadata": {
    "pycharm": {
     "name": "#%% md\n"
    }
   },
   "source": [
    "The goal of this exercise is to use image processing to automatically solve a jigsaw puzzle. The image *tp6_003* (see Figure 3.a) shows the pieces of a jigsaw puzzle. The reference image *tp6_004* is shown in Figure 3.b. Note that when the puzzle pieces are assembled together, the completed puzzle has potentially a different area than the reference image.\n",
    "<table>\n",
    "    <tr style=\"background-color:#FFFFFF;\">\n",
    "    <td style='text-align:center;'>\n",
    "       <img src='images/tp6_003.png' width=\"450\" />\n",
    "    </td>\n",
    "    <td style='text-align:center;'>\n",
    "       <img src='images/tp6_004.jpg' width=\"150\" />\n",
    "    </td>    \n",
    "    </tr>\n",
    "    <tr style=\"background-color:#FFFFFF;\">\n",
    "    <td style=\"text-align:center;\">(a) Puzzle image tp6_003</td>\n",
    "    <td style=\"text-align:center;\">(b) Reference tp6_004</td>    \n",
    "    </tr>\n",
    "    <tr style=\"background-color:#FFFFFF;\">\n",
    "    <td colspan=2 style=\"text-align:center;\"> \n",
    "    Figure 3.\n",
    "    </td>\n",
    "    </tr>    \n",
    "</table>\n",
    "\n",
    "Implement an image processing algorithm to automatically locate where each jigsaw piece fits in completed puzzle. Clearly describe the steps of your algorithm, showing intermediate results for clarification if helpful. \n",
    "\n",
    "> **Hint:** for the cross-correlation you might use *scipy.signal.correlate2d(.)*. \n",
    ">\n",
    "> **Important:** for cross-correlation both images should be normalized (zero mean, unit variance)."
   ]
  },
  {
   "cell_type": "code",
   "execution_count": null,
   "metadata": {
    "collapsed": false,
    "jupyter": {
     "outputs_hidden": false
    }
   },
   "outputs": [],
   "source": [
    "calculer les bords et regarder qu'est ce qui va aller'"
   ]
  }
 ],
 "metadata": {
  "kernelspec": {
   "display_name": "Python 3 (ipykernel)",
   "language": "python",
   "name": "python3"
  },
  "language_info": {
   "codemirror_mode": {
    "name": "ipython",
    "version": 3
   },
   "file_extension": ".py",
   "mimetype": "text/x-python",
   "name": "python",
   "nbconvert_exporter": "python",
   "pygments_lexer": "ipython3",
   "version": "3.11.2"
  }
 },
 "nbformat": 4,
 "nbformat_minor": 4
}
