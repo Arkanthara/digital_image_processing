{
 "cells": [
  {
   "cell_type": "markdown",
   "id": "8e646443-8d31-4aeb-b433-9dc0126f8cb6",
   "metadata": {
    "id": "8e646443-8d31-4aeb-b433-9dc0126f8cb6"
   },
   "source": [
    "<img style=\"float: left;\" src=\"images/unige_csd.png\" alt=\"drawing\" width=\"200\"/>\n",
    "\n",
    "# <center>Imagerie Numérique 2024 Printemps</center>\n",
    "\n",
    "<center>March 19, 2024</center>"
   ]
  },
  {
   "cell_type": "markdown",
   "id": "ce5e2afe-2d29-4bfd-9619-db39f5327776",
   "metadata": {
    "id": "ce5e2afe-2d29-4bfd-9619-db39f5327776"
   },
   "source": [
    "---"
   ]
  },
  {
   "cell_type": "markdown",
   "id": "4425ba36-7e67-4b3a-8a7f-987645239049",
   "metadata": {
    "id": "4425ba36-7e67-4b3a-8a7f-987645239049"
   },
   "source": [
    "# <center><ins>TP Class N°9 - Fourier Transform of typical signals</ins></center>"
   ]
  },
  {
   "cell_type": "markdown",
   "id": "fc108f43-2124-442b-b647-0fd9f30a390d",
   "metadata": {
    "id": "fc108f43-2124-442b-b647-0fd9f30a390d",
    "tags": []
   },
   "source": [
    "#### *Instructions :*  "
   ]
  },
  {
   "cell_type": "markdown",
   "id": "330265a5-5f10-40f1-91e5-3ed413caf1cb",
   "metadata": {
    "id": "330265a5-5f10-40f1-91e5-3ed413caf1cb"
   },
   "source": [
    "* This TP should be completed and uploaded on Moodle before **Thursday, April 18, 2024, 23h59**.\n",
    "* The name of the file you upload should be **TP9_name_surname.ipynb**.\n",
    "* If you need to include attached files to you TP, please archive them together in a folder named **TP9_name_surname.zip**."
   ]
  },
  {
   "cell_type": "markdown",
   "id": "1f11cfe7-e050-44c7-b724-af55a83b6de0",
   "metadata": {
    "id": "1f11cfe7-e050-44c7-b724-af55a83b6de0"
   },
   "source": [
    "**Warning :** The implementation of the $\\text{sinc}(x)$ function in Numpy is different from the one you've seen in class :\n",
    "\n",
    "- In class : $\\text{sinc}(x) = \\frac{\\sin(x)}{x}$\n",
    "- In Numpy : $\\text{np.sinc}(x) = \\frac{\\sin (\\pi x)}{ \\pi x }$\n",
    "\n",
    "Be aware of this difference when you code. In the TPs, we will use the definition you saw in class."
   ]
  },
  {
   "cell_type": "markdown",
   "id": "e653b0a0-5bf8-4a1a-9bb2-b597c80ef024",
   "metadata": {
    "id": "e653b0a0-5bf8-4a1a-9bb2-b597c80ef024",
    "tags": []
   },
   "source": [
    "## Exercise 1 : Fourier Transform properties\n",
    "*(1.5 points)*"
   ]
  },
  {
   "cell_type": "markdown",
   "id": "76b588d1-1395-4984-91ca-7d03a5ad96a0",
   "metadata": {
    "id": "76b588d1-1395-4984-91ca-7d03a5ad96a0"
   },
   "source": [
    "In this exercise, you will prove formulas from page 111 Theme 7 of the course."
   ]
  },
  {
   "cell_type": "markdown",
   "id": "70d82aec-78f5-4b7e-b846-bb9ac32134e0",
   "metadata": {
    "id": "70d82aec-78f5-4b7e-b846-bb9ac32134e0"
   },
   "source": [
    "(a) The FT of a Gaussian filter is given by : (you don't need to prove this result)\n",
    "\n",
    "$$g(t, \\sigma) = \\frac{1}{\\sqrt{2 \\pi \\sigma ^ 2}}e^{-\\frac{t^2}{2 \\sigma ^ 2}}, \\qquad G(w, \\sigma) = \\frac{\\sqrt{2 \\pi}}{\\sigma} \\cdot g(w, \\sigma^{-1})$$\n",
    "\n",
    "\n",
    "- Start by computing the Laplacian of Gaussian :\n",
    "\n",
    "$$ \\frac{d^2}{dt^2} g(t, \\sigma) = ( \\frac{t^2}{\\sigma^4} - \\frac{1}{\\sigma ^ 2}) \\cdot g(t, \\sigma)$$\n",
    "\n",
    "- Use the time derivative property of the FT and the formula for the FT of the Gaussian to prove that :\n",
    "\n",
    "$$ \\mathcal{F} \\left( (\\frac{t^2}{\\sigma^4} - \\frac{1}{\\sigma ^ 2}) \\cdot g(t, \\sigma) \\right) = - \\frac{\\sqrt{2 \\pi}}{\\sigma} w^2 \\cdot g(w, \\sigma^{-1})$$"
   ]
  },
  {
   "cell_type": "markdown",
   "id": "25d8e6e7-b6ae-4aea-9244-b8fa5a36e405",
   "metadata": {
    "id": "25d8e6e7-b6ae-4aea-9244-b8fa5a36e405"
   },
   "source": [
    "> *Write your answer here using latex* \\\n",
    "> *Please use the > symbol at the beginning of each answer line* \\\n",
    "> *To differentiate them from the instructions*\n",
    ">\n",
    "> As $\\frac{d}{dt} e^u = e^u \\cdot \\left(\\frac{d}{dt} u\\right) = u' e^u$, we have:\n",
    "> $$\\frac{d}{dt} g(t, \\sigma) = \\frac{d}{dt} \\frac{1}{\\sqrt{2 \\pi \\sigma ^ 2}}e^{-\\frac{t^2}{2 \\sigma ^ 2}}$$\n",
    "> $$=\\frac{1}{\\sqrt{2 \\pi \\sigma ^ 2}} \\frac{d}{dt} e^{-\\frac{t^2}{2 \\sigma ^ 2}}$$\n",
    "> $$=\\frac{1}{\\sqrt{2 \\pi \\sigma ^ 2}} e^{-\\frac{t^2}{2 \\sigma ^ 2}} \\left(\\frac{d}{dt} \\left( -\\frac{t^2}{2 \\sigma ^ 2}\\right)\\right)$$\n",
    "> $$= g(t, \\sigma) \\cdot \\left( -\\frac{t}{\\sigma ^ 2}\\right)$$\n",
    ">\n",
    "> So $$\\frac{d^2}{dt^2} g(t, \\sigma) = \\frac{d}{dt} \\cdot \\left(\\frac{d}{dt} g(t, \\sigma)\\right)$$\n",
    "> $$= \\frac{d}{dt} \\left(\\left( -\\frac{t}{\\sigma ^ 2}\\right) \\cdot g(t, \\sigma) \\right)$$\n",
    "> $$= \\left(\\frac{d}{dt} \\left( -\\frac{t}{\\sigma ^ 2}\\right)\\right) \\cdot g(t, \\sigma)  + \\left( -\\frac{t}{\\sigma ^ 2}\\right) \\cdot \\left( \\frac{d}{dt} g(t, \\sigma)\\right)$$\n",
    "> $$= \\left( -\\frac{1}{\\sigma ^ 2}\\right) \\cdot g(t, \\sigma)  + \\left( -\\frac{t}{\\sigma ^ 2}\\right) \\cdot \\left( \\left( -\\frac{t}{\\sigma ^ 2}\\right) \\cdot g(t, \\sigma) \\right)$$\n",
    "> $$= \\left( -\\frac{1}{\\sigma ^ 2}\\right) \\cdot g(t, \\sigma)  + \\left( -\\frac{t}{\\sigma ^ 2}\\right)^2  \\cdot g(t, \\sigma) $$\n",
    "> $$= \\left( -\\frac{1}{\\sigma ^ 2}\\right) \\cdot g(t, \\sigma)  + \\frac{t^2}{\\sigma ^ 4}  \\cdot g(t, \\sigma) $$\n",
    "> $$= g(t, \\sigma) \\cdot \\left(\\frac{t^2}{\\sigma ^ 4} -\\frac{1}{\\sigma ^ 2} \\right) $$\n",
    ">\n",
    "> The time derivative property of the FT give us:\n",
    "> $$\\mathcal{F}\\left(\\frac{d^n}{dt^n} f(t) \\right) = (jw)^n F(w)$$\n",
    ">\n",
    "> And we have:\n",
    "> $$\\frac{d^2}{dt^2} g(t, \\sigma) = \\left(\\frac{t^2}{\\sigma ^ 4} -\\frac{1}{\\sigma ^ 2} \\right) \\cdot g(t, \\sigma)$$\n",
    ">\n",
    "> And\n",
    "> $$G(w, \\sigma) = \\frac{\\sqrt{2 \\pi}}{\\sigma} \\cdot g(w, \\sigma^{-1})$$\n",
    "> \n",
    "> So:\n",
    "> $$\\mathcal{F}\\left( \\left(\\frac{t^2}{\\sigma^4} - \\frac{1}{\\sigma ^ 2}\\right) \\cdot g(t, \\sigma) \\right) = \\mathcal{F}\\left( \\frac{d^2}{dt^2} g(t, \\sigma) \\right)$$\n",
    "> $$= (jw)^2 G(w, \\sigma)$$\n",
    "> $$= j^2w^2 \\frac{\\sqrt{2 \\pi}}{\\sigma} \\cdot g(w, \\sigma^{-1}))$$\n",
    "> $$= -w^2 \\frac{\\sqrt{2 \\pi}}{\\sigma} \\cdot g(w, \\sigma^{-1}))$$\n",
    "> $$= -\\frac{\\sqrt{2 \\pi}}{\\sigma}w^2 \\cdot g(w, \\sigma^{-1}))$$"
   ]
  },
  {
   "cell_type": "markdown",
   "id": "e2e9a80d-047b-4dbe-a91c-8f3761dd6e95",
   "metadata": {
    "id": "e2e9a80d-047b-4dbe-a91c-8f3761dd6e95"
   },
   "source": [
    "(b) A Gabor filter is the product of a Gaussian signal with a cosine signal :\n",
    "\n",
    "$$ k(t) = \\cos(w_0 t ) \\cdot g(t, \\sigma)$$\n",
    "\n",
    "Use the product theorem and your knowledge of FT for cosine signals to prove that :\n",
    "\n",
    "$$K(w) =  \\frac{\\sqrt{2 \\pi}}{2 \\sigma} \\left( g(w - w_0, \\sigma^{-1}) + g(w + w_0, \\sigma^{-1}) \\right)$$"
   ]
  },
  {
   "cell_type": "markdown",
   "id": "a083e438-8d26-4781-a350-24be7032e1be",
   "metadata": {
    "id": "a083e438-8d26-4781-a350-24be7032e1be"
   },
   "source": [
    "> *Write your answer using latex*\n",
    ">\n",
    "> We have:\n",
    ">\n",
    "> $$\\mathcal{F} (cos(w_0t)) = \\pi \\delta(w - w_0) + \\pi \\delta(w + w_0)$$\n",
    ">\n",
    "> With:\n",
    "> $$\\delta(n) = \\left\\{ \\begin{matrix} 1 & \\text{if} \\ n=0 \\\\ 0 & \\text{else} \\end{matrix} \\right.$$\n",
    ">\n",
    "> And\n",
    ">\n",
    "> $$\\delta(t - t_0) * f(t) = \\int_{-\\infty}^{\\infty} \\delta(\\tau - t_0) f(t - \\tau) d\\tau$$\n",
    ">\n",
    "> Because of the definition of the delta function, we have that for $\\tau - t_0 = 0 \\Leftrightarrow \\tau = t_0$, $\\delta(\\tau - t_0) = 1$, and anywhere else $\\delta(\\tau - t_0) = 0$.\n",
    ">\n",
    "> So we have:\n",
    ">\n",
    "> $$\\int_{-\\infty}^{\\infty} \\delta(\\tau - t_0) f(t - \\tau) d\\tau = \\delta(0)f(t - t_0) = f(t - t_0)$$\n",
    ">\n",
    "> It means that we have the function $f(t)$ positionned on $t_0$\n",
    ">\n",
    "> We have also:\n",
    "> $$\\mathcal{F} (g(t, \\sigma)) = G(w, \\sigma) = \\frac{\\sqrt{2 \\pi}}{\\sigma} \\cdot g(w, \\sigma^{-1})$$\n",
    "> According to the product theorem, we have that:\n",
    ">\n",
    "> $$\\mathcal{F}(h(t)\\cdot f(t)) = \\frac{1}{2\\pi}H(w) * F(w)$$\n",
    ">\n",
    "> So\n",
    ">\n",
    "> $$K(w) = \\mathcal{F} (k(t)) = \\mathcal{F} (cos(w_0t) \\cdot g(t, \\sigma))$$\n",
    "> $$=\\frac{1}{2\\pi} \\mathcal{F} (cos(w_0t)) * \\mathcal{F} (g(t, \\sigma))$$\n",
    "> $$= \\frac{1}{2\\pi} \\cdot \\pi(\\delta(w - w_0) + \\delta(w + w_0)) * G(w, \\sigma)$$\n",
    "> $$= \\frac{1}{2}  (\\delta(w - w_0) + \\delta(w + w_0)) * G(w, \\sigma)$$\n",
    ">\n",
    "> According to the distributivity of the convolution, we have:\n",
    ">\n",
    "> $$\\frac{1}{2}  (\\delta(w - w_0) + \\delta(w + w_0)) * G(w, \\sigma) = \\frac{1}{2}  \\left(\\delta(w - w_0) * G(w, \\sigma) + \\delta(w + w_0) * G(w, \\sigma)\\right)$$\n",
    "> $$=\\frac{1}{2}  \\left(\\int_{-\\infty}^{\\infty}\\delta(w - w_0) * G(\\tau - w, \\sigma)dw + \\int_{-\\infty}^{\\infty}\\delta(w + w_0) * G(\\tau - w, \\sigma) dw\\right)$$\n",
    ">\n",
    "> Here, we have $\\delta(w - w_0) = 1$ if $w - w_0 = 0 \\Leftrightarrow w = w_0$, else $\\delta(w - w_0) = 0$\n",
    ">\n",
    "> And we have $\\delta(w + w_0) = 1$ if $w + w_0 = 0 \\Leftrightarrow w = -w_0$, else $\\delta(w + w_0) = 0$\n",
    ">\n",
    "> So we have:\n",
    "> \n",
    "> $$\\frac{1}{2}\\left(\\int_{-\\infty}^{\\infty}\\delta(w-w_0) \\cdot G(\\tau-w,\\sigma)dw+\\int_{-\\infty}^{\\infty}\\delta(w+w_0) \\cdot G(\\tau-w,\\sigma)dw\\right)$$\n",
    "> $$=\\frac{1}{2}\\left(G(w_0-w,\\sigma)+G(-w_0-w,\\sigma)\\right)$$\n",
    ">\n",
    "> As\n",
    "> $$G(w, \\sigma) = \\frac{\\sqrt{2 \\pi}}{\\sigma} \\cdot g(w, \\sigma^{-1})$$\n",
    "> We have:\n",
    "> $$\\frac{1}{2}\\left( G(w_0-w,\\sigma)+G(-w_0-w,\\sigma) \\right)$$\n",
    "> $$=\\frac{1}{2}\\left(\\frac{\\sqrt{2 \\pi}}{\\sigma} \\cdot g(w_0 - w, \\sigma^{-1})+\\frac{\\sqrt{2 \\pi}}{\\sigma} \\cdot g(- w_0 -w , \\sigma^{-1})\\right)$$\n",
    "> $$=\\frac{\\sqrt{2 \\pi}}{2\\sigma}\\left(g(w_0 - w, \\sigma^{-1})+g(- w_0 -w , \\sigma^{-1})\\right)$$\n",
    ">\n",
    "> As\n",
    "> $$g(t, \\sigma) = \\frac{1}{\\sqrt{2 \\pi \\sigma ^ 2}}e^{-\\frac{t^2}{2 \\sigma ^ 2}}$$\n",
    ">\n",
    "> We have:\n",
    "> $$\\frac{\\sqrt{2 \\pi}}{2\\sigma}\\left(g(w_0 - w, \\sigma^{-1})+g(- w_0 -w , \\sigma^{-1})\\right)$$\n",
    "> $$=\\frac{\\sqrt{2 \\pi}}{2\\sigma}\\left(\\frac{1}{\\sqrt{2 \\pi \\sigma ^ 2}}e^{-\\frac{(w_0 - w)^2}{2 \\sigma ^ 2}}+\\frac{1}{\\sqrt{2 \\pi \\sigma ^ 2}}e^{-\\frac{(w_0 + w)^2}{2 \\sigma ^ 2}}\\right)$$\n",
    "> $$=\\frac{\\sqrt{2 \\pi}}{2\\sigma}\\left(\\frac{1}{\\sqrt{2 \\pi \\sigma ^ 2}}e^{-\\frac{(w - w_0)^2}{2 \\sigma ^ 2}}+\\frac{1}{\\sqrt{2 \\pi \\sigma ^ 2}}e^{-\\frac{(w + w_0)^2}{2 \\sigma ^ 2}}\\right)$$\n",
    "> $$=\\frac{\\sqrt{2 \\pi}}{2\\sigma}\\left(g(w- w_0, \\sigma^{-1})+g(w + w_0 , \\sigma^{-1})\\right)$$"
   ]
  },
  {
   "cell_type": "markdown",
   "id": "69c6ad4b-82fe-4159-b37c-2c0fc99a3d05",
   "metadata": {
    "id": "69c6ad4b-82fe-4159-b37c-2c0fc99a3d05"
   },
   "source": [
    "(c) An unsharp mask is given by the following formula :\n",
    "\n",
    "$$u(t) = (1 + \\gamma) \\delta(t) - \\gamma g(t, \\sigma)$$\n",
    "\n",
    "Use the linearity of the FT to prove that :\n",
    "\n",
    "$$U(w) = (1 + \\gamma) - \\gamma \\frac{\\sqrt{2 \\pi}}{ \\sigma} \\cdot g(w, \\sigma^{-1})$$"
   ]
  },
  {
   "cell_type": "markdown",
   "id": "ecd14c8f-f06e-484b-af3d-052557efdc8d",
   "metadata": {
    "id": "ecd14c8f-f06e-484b-af3d-052557efdc8d"
   },
   "source": [
    "> *Write your answer using latex*\n",
    ">\n",
    "> $$U(w) = \\mathcal{F}(u(t)) = \\mathcal{F} ((1 + \\gamma)\\delta(t) - \\gamma g(t, \\sigma))$$\n",
    ">\n",
    "> According to the linearity of the FT, we have:\n",
    "> $$\\mathcal{F} ((1 + \\gamma)\\delta(t) - \\gamma g(t, \\sigma))$$\n",
    "> $$=\\mathcal{F} ((1 + \\gamma)\\delta(t)) - \\mathcal{F}(\\gamma g(t, \\sigma))$$\n",
    ">\n",
    "> As $\\gamma$ is a constant, we have according to the linearity of the FT that:\n",
    "> $$\\mathcal{F} (\\gamma g(t, \\sigma) = \\gamma \\mathcal{F} (g(t, \\sigma)) = \\gamma G(w)$$\n",
    ">\n",
    "> And:\n",
    "> $$\\mathcal{F} ((1 + \\gamma)\\delta(t)) = (1 + \\gamma) \\mathcal{F} (\\delta(t))$$\n",
    ">\n",
    "> We have:\n",
    "> $$\\mathcal{F} (\\delta(t)) = \\int_{-\\infty}^{\\infty} \\delta(t) e^{-jwt} dt$$\n",
    "> $$= \\delta(0) e^{-jw0} dt$$\n",
    "> $$=e^0$$\n",
    "> $$=1$$\n",
    ">\n",
    "> So\n",
    "> $$U(w) = \\mathcal{F} ((1 + \\gamma)\\delta(t)) - \\mathcal{F}(\\gamma g(t, \\sigma))$$\n",
    "> $$=(1 + \\gamma)\\mathcal{F} (\\delta(t)) - \\gamma G(w)$$\n",
    "> $$=(1 + \\gamma) - \\gamma G(w)$$\n",
    "> As\n",
    "> $$G(w, \\sigma) = \\frac{\\sqrt{2 \\pi}}{\\sigma} \\cdot g(w, \\sigma^{-1})$$\n",
    "> We have\n",
    "> $$U(w) = (1 + \\gamma) - \\gamma G(w) = (1 + \\gamma) - \\gamma \\frac{\\sqrt{2 \\pi}}{\\sigma} \\cdot g(w, \\sigma^{-1})$$"
   ]
  },
  {
   "cell_type": "markdown",
   "id": "ec1e311e-4b31-472c-8639-5cc9a1a58867",
   "metadata": {
    "id": "ec1e311e-4b31-472c-8639-5cc9a1a58867",
    "tags": []
   },
   "source": [
    "## Exercise 2 : Continuous signal filtering\n",
    "\n",
    "*(1.5 points)*"
   ]
  },
  {
   "cell_type": "markdown",
   "id": "e6575ed5-7b49-4a4c-a2e0-13aa4e253813",
   "metadata": {
    "id": "e6575ed5-7b49-4a4c-a2e0-13aa4e253813"
   },
   "source": [
    "Remember from semester 1, that filtering a signal $f(t)$ with a filter $h(t)$ consists in computing\n",
    "the convolution :\n",
    "\n",
    "$$ (f * h)(t) = \\int_{-\\infty}^{\\infty} f(\\tau) \\cdot h(t-\\tau) d \\tau $$\n",
    "\n",
    "Using the convolution theorem for FT, we can see that filtering corresponds to multiplication in the frequency domain :\n",
    "$ \\mathcal{F}(f * h)(w) = F(w) \\cdot H(w) $.\n",
    "The goal is now for you to explore the effect of filtering a continuous signal $f(t)$, with the filters from exercise 1 viewed in frequency domain.\n",
    "\n",
    "For the illustration, you can take the signal $F(w) = \\mbox{sinc}^2(w)$.\n",
    "\n",
    "**Hint :** Use the range $t \\in [-10, 10]$ and $\\omega \\in [-20,20]$ for all three parts (a) - (c)"
   ]
  },
  {
   "cell_type": "markdown",
   "id": "9c8501f8-e62e-4eda-acba-657a38d8ef4c",
   "metadata": {
    "id": "9c8501f8-e62e-4eda-acba-657a38d8ef4c"
   },
   "source": [
    "(a) On four different graphs, represent :\n",
    "\n",
    "- The Gaussian signal $g(t, \\sigma)$ with $\\sigma = 1$,\n",
    "- its Fourier transform $G(w, \\sigma)$,\n",
    "- The signal $F(w)$,\n",
    "- The product $G(w) \\cdot F(w)$."
   ]
  },
  {
   "cell_type": "code",
   "execution_count": null,
   "id": "f2cd28f4-59f0-487a-9ea6-6e280ce1c794",
   "metadata": {
    "id": "f2cd28f4-59f0-487a-9ea6-6e280ce1c794"
   },
   "outputs": [],
   "source": []
  },
  {
   "cell_type": "markdown",
   "id": "b1422baa-06f7-448a-92fd-c4f9736f97d7",
   "metadata": {
    "id": "b1422baa-06f7-448a-92fd-c4f9736f97d7"
   },
   "source": [
    "By refering to the convolution theorem, explain the following sentence :\n",
    "*\"Filtering a signal with a Gaussian blur kills high frequencies.\"*"
   ]
  },
  {
   "cell_type": "markdown",
   "id": "02072ddf-463e-49cb-a3b0-c6214fedb49f",
   "metadata": {
    "id": "02072ddf-463e-49cb-a3b0-c6214fedb49f",
    "tags": []
   },
   "source": [
    "> *Write your answer here*"
   ]
  },
  {
   "cell_type": "markdown",
   "id": "2e67afc5-3a91-4f75-8e9c-fc2c088482ec",
   "metadata": {
    "id": "2e67afc5-3a91-4f75-8e9c-fc2c088482ec"
   },
   "source": [
    "(b) Do the same for the Gabor filter with $w_0 = 10$."
   ]
  },
  {
   "cell_type": "code",
   "execution_count": null,
   "id": "9acb373b-a21d-4993-bfa9-c8666cfaadd9",
   "metadata": {
    "id": "9acb373b-a21d-4993-bfa9-c8666cfaadd9"
   },
   "outputs": [],
   "source": []
  },
  {
   "cell_type": "markdown",
   "id": "43a6eb61-58b0-43da-a15f-e13f68f5da92",
   "metadata": {
    "id": "43a6eb61-58b0-43da-a15f-e13f68f5da92"
   },
   "source": [
    "Explain the following sentence :\n",
    "*\"Filtering with a Gabor filter at frequency $w_0$ only keeps the parts of the signal which have a frequency close to $w_0$.\"*"
   ]
  },
  {
   "cell_type": "markdown",
   "id": "8fa9833e-223a-47b0-bd53-eda4d4ab38f8",
   "metadata": {
    "id": "8fa9833e-223a-47b0-bd53-eda4d4ab38f8",
    "tags": []
   },
   "source": [
    "> *Write your answer here*"
   ]
  },
  {
   "cell_type": "markdown",
   "id": "7e266481-390f-4216-8cf5-1cd0b8f0eddd",
   "metadata": {
    "id": "7e266481-390f-4216-8cf5-1cd0b8f0eddd"
   },
   "source": [
    "(c) Repeat again the same steps for the unsharp mask with $\\gamma = 1.5$."
   ]
  },
  {
   "cell_type": "code",
   "execution_count": null,
   "id": "bd808192-c595-4c53-a103-4599ff94ba1c",
   "metadata": {
    "id": "bd808192-c595-4c53-a103-4599ff94ba1c"
   },
   "outputs": [],
   "source": []
  },
  {
   "cell_type": "markdown",
   "id": "f5bacc43-ab6a-4c01-99e7-326f073ae4fe",
   "metadata": {
    "id": "f5bacc43-ab6a-4c01-99e7-326f073ae4fe"
   },
   "source": [
    "Explain : *\"The Unsharp mask filtering sharpens the signal by increasing high frequency components.\"*"
   ]
  },
  {
   "cell_type": "markdown",
   "id": "84ca27ba-2a70-4864-b50a-fa25a53104c7",
   "metadata": {
    "id": "84ca27ba-2a70-4864-b50a-fa25a53104c7",
    "tags": []
   },
   "source": [
    "> *Write your answer here*"
   ]
  },
  {
   "cell_type": "markdown",
   "id": "a2409e0a-6a34-475d-bfc5-23e45fcf4591",
   "metadata": {
    "id": "a2409e0a-6a34-475d-bfc5-23e45fcf4591"
   },
   "source": [
    "## Exercise 3 : The Dirac comb\n",
    "*(1.5 points)*"
   ]
  },
  {
   "cell_type": "markdown",
   "id": "8893656a-15a0-47aa-974e-e220e71c200b",
   "metadata": {
    "id": "8893656a-15a0-47aa-974e-e220e71c200b"
   },
   "source": [
    "The Dirac comb or train of impulses is the following \"function\":\n",
    "\n",
    "$$W_T(t) = \\sum_{k \\in \\mathbb{Z}} \\delta(t - k \\cdot T) $$"
   ]
  },
  {
   "cell_type": "markdown",
   "id": "4f432b14-e46b-4c17-a3a1-f595ced0c5c6",
   "metadata": {
    "id": "4f432b14-e46b-4c17-a3a1-f595ced0c5c6"
   },
   "source": [
    "(a) Explain why sampling a function at rate $1/T$ is equivalent to multiplying it with $W_T(t)$."
   ]
  },
  {
   "cell_type": "markdown",
   "id": "8693a559-7f43-4a0d-98e1-a1d08e1279b4",
   "metadata": {
    "id": "8693a559-7f43-4a0d-98e1-a1d08e1279b4",
    "tags": []
   },
   "source": [
    "> *Write your answer here*"
   ]
  },
  {
   "cell_type": "markdown",
   "id": "03e6717c-ef1f-4388-adb9-a67e80deb985",
   "metadata": {
    "id": "03e6717c-ef1f-4388-adb9-a67e80deb985"
   },
   "source": [
    "(b) Given any function $f(t)$ defined on $\\mathbb{R}$, show that\n",
    "\n",
    "$$(f * W_T) (t) = \\sum_{k \\in \\mathbb{Z}} f(t - kT).$$\n",
    "\n",
    "Explain why this function is periodic of period T."
   ]
  },
  {
   "cell_type": "markdown",
   "id": "42262107-d0fe-48e8-be53-0e78d40008bb",
   "metadata": {
    "id": "42262107-d0fe-48e8-be53-0e78d40008bb",
    "tags": []
   },
   "source": [
    "> *Write your answer here*"
   ]
  },
  {
   "cell_type": "markdown",
   "id": "440b64af-d048-480b-a4cb-9b5cd7ad9742",
   "metadata": {
    "id": "440b64af-d048-480b-a4cb-9b5cd7ad9742"
   },
   "source": [
    "(c) Illustrate point (b) with the triangular function:\n",
    "\n",
    "$$\n",
    "h(t) =\n",
    "\\left\\{\n",
    "\t\\begin{array}{ll}\n",
    "\t\t1-|t|  & \\mbox{if } |t| \\leq 1 \\\\\n",
    "\t\t0 & \\mbox{otherwise.}\n",
    "\t\\end{array}\n",
    "\\right.\n",
    "$$\n",
    "\n",
    "For various $T = 1$, $1.5$, $2$, $4$, plot on the same graph :\n",
    "\n",
    "- The shifted functions $h(t - kT)$ on an interval $t \\in [-5, 5]$ for each $k \\in \\mathbb{Z}$.\n",
    "- The periodic signal $(h * W_T)(t)$"
   ]
  },
  {
   "cell_type": "code",
   "execution_count": null,
   "id": "2b20e0e4-9966-47b8-97aa-6745a5d67106",
   "metadata": {
    "id": "2b20e0e4-9966-47b8-97aa-6745a5d67106"
   },
   "outputs": [],
   "source": []
  },
  {
   "cell_type": "markdown",
   "id": "3e93402f-1e71-41c9-b6e5-4a804231258c",
   "metadata": {
    "id": "3e93402f-1e71-41c9-b6e5-4a804231258c"
   },
   "source": [
    "(d) You've seen in the course that\n",
    "\n",
    "\n",
    "- $\\mathcal{F}(W_T) = \\frac{2 \\pi}{T} \\cdot W_{\\frac{2 \\pi}{T}}$\n",
    "- $\\mathcal{F}(f * g) = \\mathcal{F}(f) \\cdot \\mathcal{F}(g)$\n",
    "- $\\mathcal{F}(f \\cdot g) = \\frac{1}{2 \\pi} \\mathcal{F}(f) * \\mathcal{F}(g)$\n",
    "\n",
    "Use these facts and points (a) and (b) to explain the following :\n",
    "\n",
    "\n",
    "1. The Fourier transform of a periodic function is discrete (non-zero only at isolated points). Give an example.\n",
    "\n",
    "2. The Fourier transform of a discrete signal is a periodic function. Give an example.\n",
    "\n",
    "3. If $f(t)$ is both discrete and periodic, then its transform is also discrete and periodic and vice-versa. Give an example. (This last result plays a central role in the definition of the DFT.)\n",
    "\n",
    "**Hint :** Start with any signal $f(t)$ and consider the Fourier Transform of $f * W_T$, $f \\cdot W_T$ and $(f \\cdot W_T) * W_S$."
   ]
  },
  {
   "cell_type": "markdown",
   "id": "552b636e-fdac-413b-a3fb-a6ab75d79282",
   "metadata": {
    "id": "552b636e-fdac-413b-a3fb-a6ab75d79282",
    "tags": []
   },
   "source": [
    "> *Write your answer here*"
   ]
  },
  {
   "cell_type": "markdown",
   "id": "c72ebd32",
   "metadata": {
    "id": "c72ebd32"
   },
   "source": [
    "## Exercise 4 : Shannon Nyquist bound\n",
    "*(1.5 points)*"
   ]
  },
  {
   "cell_type": "markdown",
   "id": "b97ecb50",
   "metadata": {
    "id": "b97ecb50"
   },
   "source": [
    "Consider a function $f(t)$ and its Fourier transform $\\mathcal{F}(f)(w) = F(w)$."
   ]
  },
  {
   "cell_type": "markdown",
   "id": "w6Ii65yzkLvR",
   "metadata": {
    "id": "w6Ii65yzkLvR"
   },
   "source": [
    "(a) Sampling $f$ by using the Dirac comb $W_T$ , we showed the following in the class :\n",
    "\n",
    "$$\\mathcal{F}(f \\cdot W_T)(\\omega) = \\frac{1}{T} \\sum_{k \\in \\mathbb{Z}} F(w - j \\cdot w_0), \\quad \\text{where } \\omega_0 = \\frac{2 \\pi}{T} $$\n",
    "\n",
    "Using this formula, explain the phenomenon of folding.\n",
    "\n",
    "**Hint:** If this formula looks intimidating, just put $w=0$ and write out the sum explicitely."
   ]
  },
  {
   "cell_type": "markdown",
   "id": "NEkvWZXDl_3Z",
   "metadata": {
    "id": "NEkvWZXDl_3Z"
   },
   "source": [
    "> Your answer"
   ]
  },
  {
   "cell_type": "markdown",
   "id": "90u0i4esmElp",
   "metadata": {
    "id": "90u0i4esmElp"
   },
   "source": [
    "(b) Suppose now that $F(w) = 0$, if $|w| > W$. What is the biggest sampling $T_{max}$ such that\n",
    "the folding does not appear ?\n",
    "\n",
    "**Remark:** We call $2π / T_{max}$ the Shannon-Nyquist rate."
   ]
  },
  {
   "cell_type": "markdown",
   "id": "au0SuVjQmnnI",
   "metadata": {
    "id": "au0SuVjQmnnI"
   },
   "source": [
    "> Your answer"
   ]
  },
  {
   "cell_type": "markdown",
   "id": "MXGB9dhWmqXT",
   "metadata": {
    "id": "MXGB9dhWmqXT"
   },
   "source": [
    "(c) Consider the function $f(t) = \\text{sinc}^2 (\\frac{t}{2})$, which has FT $F(w) = h(w)$ the triangular function (see exercise 3).\n",
    "\n",
    "- Find $W$ and $T_{max}$\n",
    "\n",
    "- Plot on the same graph, the function $f(t)$ and its sampled version $f_s(t)$ for $T = π/2,π,2π,4\\pi$.\n",
    "\n",
    "- On a separate graph, plot the Fourier transform $F_s(w)$ of the sampled signal $f_s(t)$ for each $T$.\n",
    "\n",
    "**Hint:** Use a range $t \\in [-20,20]$ and a range $\\omega \\in [-10,10]$.\n",
    "\n",
    "- Comment on the signal preservation when sampling if $T < T_{max}$ or $T > T_{max}$."
   ]
  },
  {
   "cell_type": "code",
   "execution_count": null,
   "id": "c09324a8",
   "metadata": {
    "id": "c09324a8"
   },
   "outputs": [],
   "source": []
  },
  {
   "cell_type": "markdown",
   "id": "7eCqdY47odbm",
   "metadata": {
    "id": "7eCqdY47odbm"
   },
   "source": [
    "(d) **(Bonus)** Given a sampled signal $f_s(t)$ at time interval $T$, one can reconstruct the original signal $f(t)$ by interpolation using the Shannon-Whittaker interpolation formula:\n",
    "\n",
    "$$f_{approx}(t) = \\sum_{k \\in \\mathbb{Z}} f(k \\cdot T) \\cdot \\text{sinc}(\\pi \\cdot \\frac{t - kT}{T})$$\n",
    "\n",
    "- Using the same function as in part (c), for each $T$, visualize on a same plot the original function $f(t)$ and its approximation $f_{approx}(t)$.\n",
    "\n",
    "- Comment your result in view of the Shannon-Nyquist rate."
   ]
  },
  {
   "cell_type": "code",
   "execution_count": null,
   "id": "pq5ENG_Mpfq2",
   "metadata": {
    "id": "pq5ENG_Mpfq2"
   },
   "outputs": [],
   "source": []
  }
 ],
 "metadata": {
  "colab": {
   "provenance": []
  },
  "kernelspec": {
   "display_name": "Python 3 (ipykernel)",
   "language": "python",
   "name": "python3"
  },
  "language_info": {
   "codemirror_mode": {
    "name": "ipython",
    "version": 3
   },
   "file_extension": ".py",
   "mimetype": "text/x-python",
   "name": "python",
   "nbconvert_exporter": "python",
   "pygments_lexer": "ipython3",
   "version": "3.11.2"
  }
 },
 "nbformat": 4,
 "nbformat_minor": 5
}
